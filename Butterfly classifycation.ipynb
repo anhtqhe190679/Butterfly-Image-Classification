{
 "cells": [
  {
   "cell_type": "code",
   "execution_count": 1,
   "id": "3bea3991",
   "metadata": {},
   "outputs": [],
   "source": [
    "import os\n",
    "import pandas as pd\n",
    "import numpy as np\n",
    "import tensorflow as tf\n",
    "from sklearn.model_selection import train_test_split\n",
    "from sklearn.preprocessing import LabelEncoder\n",
    "from tensorflow.keras.preprocessing.image import ImageDataGenerator\n",
    "from tensorflow.keras.applications import EfficientNetB0\n",
    "import matplotlib.pyplot as plt\n",
    "from glob import glob"
   ]
  },
  {
   "cell_type": "code",
   "execution_count": null,
   "id": "1f56fb48",
   "metadata": {},
   "outputs": [
    {
     "name": "stdout",
     "output_type": "stream",
     "text": [
      "      filename                     label\n",
      "0  Image_1.jpg          SOUTHERN DOGFACE\n",
      "1  Image_2.jpg                    ADONIS\n",
      "2  Image_3.jpg            BROWN SIPROETA\n",
      "3  Image_4.jpg                   MONARCH\n",
      "4  Image_5.jpg  GREEN CELLED CATTLEHEART\n",
      "label\n",
      "MOURNING CLOAK         105\n",
      "SLEEPY ORANGE           82\n",
      "CRECENT                 82\n",
      "ORANGE TIP              81\n",
      "MONARCH                 78\n",
      "                      ... \n",
      "YELLOW SWALLOW TAIL     56\n",
      "GOLD BANDED             54\n",
      "MALACHITE               53\n",
      "ZEBRA LONG WING         52\n",
      "CRIMSON PATCH           47\n",
      "Name: count, Length: 75, dtype: int64\n"
     ]
    }
   ],
   "source": [
    "df = pd.read_csv('Training_set.csv')\n",
    "print(df.head())\n",
    "print(df['label'].value_counts())"
   ]
  },
  {
   "cell_type": "code",
   "execution_count": 3,
   "id": "bc5d728e",
   "metadata": {},
   "outputs": [
    {
     "name": "stdout",
     "output_type": "stream",
     "text": [
      "<class 'pandas.core.frame.DataFrame'>\n",
      "RangeIndex: 5000 entries, 0 to 4999\n",
      "Data columns (total 4 columns):\n",
      " #   Column     Non-Null Count  Dtype \n",
      "---  ------     --------------  ----- \n",
      " 0   filename   5000 non-null   object\n",
      " 1   label      5000 non-null   object\n",
      " 2   filepath   5000 non-null   object\n",
      " 3   label_enc  5000 non-null   int32 \n",
      "dtypes: int32(1), object(3)\n",
      "memory usage: 136.8+ KB\n"
     ]
    }
   ],
   "source": [
    "df.info()"
   ]
  },
  {
   "cell_type": "code",
   "execution_count": 4,
   "id": "3a765465",
   "metadata": {},
   "outputs": [
    {
     "data": {
      "text/html": [
       "<div>\n",
       "<style scoped>\n",
       "    .dataframe tbody tr th:only-of-type {\n",
       "        vertical-align: middle;\n",
       "    }\n",
       "\n",
       "    .dataframe tbody tr th {\n",
       "        vertical-align: top;\n",
       "    }\n",
       "\n",
       "    .dataframe thead th {\n",
       "        text-align: right;\n",
       "    }\n",
       "</style>\n",
       "<table border=\"1\" class=\"dataframe\">\n",
       "  <thead>\n",
       "    <tr style=\"text-align: right;\">\n",
       "      <th></th>\n",
       "      <th>label_enc</th>\n",
       "    </tr>\n",
       "  </thead>\n",
       "  <tbody>\n",
       "    <tr>\n",
       "      <th>count</th>\n",
       "      <td>5000.000000</td>\n",
       "    </tr>\n",
       "    <tr>\n",
       "      <th>mean</th>\n",
       "      <td>36.678200</td>\n",
       "    </tr>\n",
       "    <tr>\n",
       "      <th>std</th>\n",
       "      <td>21.423829</td>\n",
       "    </tr>\n",
       "    <tr>\n",
       "      <th>min</th>\n",
       "      <td>0.000000</td>\n",
       "    </tr>\n",
       "    <tr>\n",
       "      <th>25%</th>\n",
       "      <td>18.000000</td>\n",
       "    </tr>\n",
       "    <tr>\n",
       "      <th>50%</th>\n",
       "      <td>37.000000</td>\n",
       "    </tr>\n",
       "    <tr>\n",
       "      <th>75%</th>\n",
       "      <td>55.000000</td>\n",
       "    </tr>\n",
       "    <tr>\n",
       "      <th>max</th>\n",
       "      <td>74.000000</td>\n",
       "    </tr>\n",
       "  </tbody>\n",
       "</table>\n",
       "</div>"
      ],
      "text/plain": [
       "         label_enc\n",
       "count  5000.000000\n",
       "mean     36.678200\n",
       "std      21.423829\n",
       "min       0.000000\n",
       "25%      18.000000\n",
       "50%      37.000000\n",
       "75%      55.000000\n",
       "max      74.000000"
      ]
     },
     "execution_count": 4,
     "metadata": {},
     "output_type": "execute_result"
    }
   ],
   "source": [
    "df.describe()"
   ]
  },
  {
   "cell_type": "code",
   "execution_count": null,
   "id": "cd385864",
   "metadata": {},
   "outputs": [],
   "source": [
    "df['filepath'] = df['filename'].apply(lambda x: os.path.join('train', 'train', x))\n",
    "\n",
    "le = LabelEncoder()\n",
    "df['label_enc'] = le.fit_transform(df['label'])\n",
    "\n",
    "train_df, val_df = train_test_split(df, test_size=0.15, stratify=df['label_enc'], random_state=42)"
   ]
  },
  {
   "cell_type": "code",
   "execution_count": 44,
   "id": "84588754",
   "metadata": {},
   "outputs": [
    {
     "name": "stdout",
     "output_type": "stream",
     "text": [
      "Found 4250 validated image filenames.\n",
      "Found 750 validated image filenames.\n"
     ]
    }
   ],
   "source": [
    "img_size = (224, 224)\n",
    "batch_size = 32\n",
    "\n",
    "train_datagen = ImageDataGenerator(\n",
    "    rescale=1./255,\n",
    "    rotation_range=30,\n",
    "    width_shift_range=0.2,\n",
    "    height_shift_range=0.2,\n",
    "    zoom_range=0.3,\n",
    "    brightness_range=(0.7, 1.3),\n",
    "    horizontal_flip=True,\n",
    "    shear_range=0.2\n",
    ")\n",
    "val_datagen = ImageDataGenerator(rescale=1./255)\n",
    "\n",
    "train_gen = train_datagen.flow_from_dataframe(\n",
    "    train_df, x_col='filepath', y_col='label_enc',\n",
    "    target_size=img_size, batch_size=batch_size,\n",
    "    class_mode='raw'\n",
    ")\n",
    "val_gen = val_datagen.flow_from_dataframe(\n",
    "    val_df, x_col='filepath', y_col='label_enc',\n",
    "    target_size=img_size, batch_size=batch_size,\n",
    "    class_mode='raw'\n",
    ")"
   ]
  },
  {
   "cell_type": "code",
   "execution_count": 45,
   "id": "845a86d4",
   "metadata": {},
   "outputs": [],
   "source": [
    "base_model = tf.keras.applications.EfficientNetB0(\n",
    "    include_top=False,\n",
    "    weights='imagenet',\n",
    "    input_shape=(224, 224, 3)\n",
    ")\n",
    "base_model.trainable = True  # Fine-tune entire model\n",
    "\n",
    "model = tf.keras.Sequential([\n",
    "    base_model,\n",
    "    tf.keras.layers.GlobalAveragePooling2D(),\n",
    "    tf.keras.layers.BatchNormalization(),\n",
    "    tf.keras.layers.Dense(256, activation='relu'),\n",
    "    tf.keras.layers.Dropout(0.5),\n",
    "    tf.keras.layers.Dense(len(le.classes_), activation='softmax')\n",
    "])\n",
    "\n",
    "model.compile(\n",
    "    optimizer=tf.keras.optimizers.Adam(learning_rate=1e-4),\n",
    "    loss=tf.keras.losses.SparseCategoricalCrossentropy(),\n",
    "    metrics=['accuracy']\n",
    ")\n"
   ]
  },
  {
   "cell_type": "code",
   "execution_count": 46,
   "id": "21d1053f",
   "metadata": {},
   "outputs": [],
   "source": [
    "callbacks = [\n",
    "    tf.keras.callbacks.ReduceLROnPlateau(monitor='val_loss', factor=0.5, patience=2, min_lr=1e-6),\n",
    "    tf.keras.callbacks.EarlyStopping(monitor='val_loss', patience=5, restore_best_weights=True)\n",
    "]"
   ]
  },
  {
   "cell_type": "code",
   "execution_count": 47,
   "id": "b7b3a2d2",
   "metadata": {},
   "outputs": [
    {
     "name": "stderr",
     "output_type": "stream",
     "text": [
      "c:\\Users\\Admin\\anaconda3\\Lib\\site-packages\\keras\\src\\trainers\\data_adapters\\py_dataset_adapter.py:121: UserWarning: Your `PyDataset` class should call `super().__init__(**kwargs)` in its constructor. `**kwargs` can include `workers`, `use_multiprocessing`, `max_queue_size`. Do not pass these arguments to `fit()`, as they will be ignored.\n",
      "  self._warn_if_super_not_called()\n"
     ]
    },
    {
     "name": "stdout",
     "output_type": "stream",
     "text": [
      "Epoch 1/30\n",
      "\u001b[1m133/133\u001b[0m \u001b[32m━━━━━━━━━━━━━━━━━━━━\u001b[0m\u001b[37m\u001b[0m \u001b[1m315s\u001b[0m 2s/step - accuracy: 0.0355 - loss: 5.0080 - val_accuracy: 0.0120 - val_loss: 4.3760 - learning_rate: 1.0000e-04\n",
      "Epoch 2/30\n",
      "\u001b[1m133/133\u001b[0m \u001b[32m━━━━━━━━━━━━━━━━━━━━\u001b[0m\u001b[37m\u001b[0m \u001b[1m302s\u001b[0m 2s/step - accuracy: 0.2267 - loss: 3.3022 - val_accuracy: 0.0267 - val_loss: 4.3894 - learning_rate: 1.0000e-04\n",
      "Epoch 3/30\n",
      "\u001b[1m133/133\u001b[0m \u001b[32m━━━━━━━━━━━━━━━━━━━━\u001b[0m\u001b[37m\u001b[0m \u001b[1m318s\u001b[0m 2s/step - accuracy: 0.4796 - loss: 2.0645 - val_accuracy: 0.1173 - val_loss: 3.9468 - learning_rate: 1.0000e-04\n",
      "Epoch 4/30\n",
      "\u001b[1m133/133\u001b[0m \u001b[32m━━━━━━━━━━━━━━━━━━━━\u001b[0m\u001b[37m\u001b[0m \u001b[1m295s\u001b[0m 2s/step - accuracy: 0.6364 - loss: 1.4527 - val_accuracy: 0.4560 - val_loss: 2.1122 - learning_rate: 1.0000e-04\n",
      "Epoch 5/30\n",
      "\u001b[1m133/133\u001b[0m \u001b[32m━━━━━━━━━━━━━━━━━━━━\u001b[0m\u001b[37m\u001b[0m \u001b[1m295s\u001b[0m 2s/step - accuracy: 0.7125 - loss: 1.1016 - val_accuracy: 0.2200 - val_loss: 3.3209 - learning_rate: 1.0000e-04\n",
      "Epoch 6/30\n",
      "\u001b[1m133/133\u001b[0m \u001b[32m━━━━━━━━━━━━━━━━━━━━\u001b[0m\u001b[37m\u001b[0m \u001b[1m293s\u001b[0m 2s/step - accuracy: 0.7753 - loss: 0.8587 - val_accuracy: 0.5360 - val_loss: 1.8594 - learning_rate: 1.0000e-04\n",
      "Epoch 7/30\n",
      "\u001b[1m133/133\u001b[0m \u001b[32m━━━━━━━━━━━━━━━━━━━━\u001b[0m\u001b[37m\u001b[0m \u001b[1m281s\u001b[0m 2s/step - accuracy: 0.8058 - loss: 0.7000 - val_accuracy: 0.8067 - val_loss: 0.7606 - learning_rate: 1.0000e-04\n",
      "Epoch 8/30\n",
      "\u001b[1m133/133\u001b[0m \u001b[32m━━━━━━━━━━━━━━━━━━━━\u001b[0m\u001b[37m\u001b[0m \u001b[1m270s\u001b[0m 2s/step - accuracy: 0.8342 - loss: 0.6092 - val_accuracy: 0.8187 - val_loss: 0.6563 - learning_rate: 1.0000e-04\n",
      "Epoch 9/30\n",
      "\u001b[1m133/133\u001b[0m \u001b[32m━━━━━━━━━━━━━━━━━━━━\u001b[0m\u001b[37m\u001b[0m \u001b[1m318s\u001b[0m 2s/step - accuracy: 0.8564 - loss: 0.5201 - val_accuracy: 0.8400 - val_loss: 0.6224 - learning_rate: 1.0000e-04\n",
      "Epoch 10/30\n",
      "\u001b[1m133/133\u001b[0m \u001b[32m━━━━━━━━━━━━━━━━━━━━\u001b[0m\u001b[37m\u001b[0m \u001b[1m321s\u001b[0m 2s/step - accuracy: 0.8773 - loss: 0.4437 - val_accuracy: 0.7160 - val_loss: 1.0544 - learning_rate: 1.0000e-04\n",
      "Epoch 11/30\n",
      "\u001b[1m133/133\u001b[0m \u001b[32m━━━━━━━━━━━━━━━━━━━━\u001b[0m\u001b[37m\u001b[0m \u001b[1m324s\u001b[0m 2s/step - accuracy: 0.8901 - loss: 0.4101 - val_accuracy: 0.8267 - val_loss: 0.6880 - learning_rate: 1.0000e-04\n",
      "Epoch 12/30\n",
      "\u001b[1m133/133\u001b[0m \u001b[32m━━━━━━━━━━━━━━━━━━━━\u001b[0m\u001b[37m\u001b[0m \u001b[1m326s\u001b[0m 2s/step - accuracy: 0.9082 - loss: 0.3435 - val_accuracy: 0.6987 - val_loss: 1.1039 - learning_rate: 5.0000e-05\n",
      "Epoch 13/30\n",
      "\u001b[1m133/133\u001b[0m \u001b[32m━━━━━━━━━━━━━━━━━━━━\u001b[0m\u001b[37m\u001b[0m \u001b[1m318s\u001b[0m 2s/step - accuracy: 0.9029 - loss: 0.3250 - val_accuracy: 0.9053 - val_loss: 0.3880 - learning_rate: 5.0000e-05\n",
      "Epoch 14/30\n",
      "\u001b[1m133/133\u001b[0m \u001b[32m━━━━━━━━━━━━━━━━━━━━\u001b[0m\u001b[37m\u001b[0m \u001b[1m305s\u001b[0m 2s/step - accuracy: 0.9237 - loss: 0.2965 - val_accuracy: 0.4533 - val_loss: 2.3579 - learning_rate: 5.0000e-05\n",
      "Epoch 15/30\n",
      "\u001b[1m133/133\u001b[0m \u001b[32m━━━━━━━━━━━━━━━━━━━━\u001b[0m\u001b[37m\u001b[0m \u001b[1m312s\u001b[0m 2s/step - accuracy: 0.9247 - loss: 0.2753 - val_accuracy: 0.8213 - val_loss: 0.6308 - learning_rate: 5.0000e-05\n",
      "Epoch 16/30\n",
      "\u001b[1m133/133\u001b[0m \u001b[32m━━━━━━━━━━━━━━━━━━━━\u001b[0m\u001b[37m\u001b[0m \u001b[1m294s\u001b[0m 2s/step - accuracy: 0.9244 - loss: 0.2884 - val_accuracy: 0.9253 - val_loss: 0.2977 - learning_rate: 2.5000e-05\n",
      "Epoch 17/30\n",
      "\u001b[1m133/133\u001b[0m \u001b[32m━━━━━━━━━━━━━━━━━━━━\u001b[0m\u001b[37m\u001b[0m \u001b[1m283s\u001b[0m 2s/step - accuracy: 0.9328 - loss: 0.2533 - val_accuracy: 0.9413 - val_loss: 0.2490 - learning_rate: 2.5000e-05\n",
      "Epoch 18/30\n",
      "\u001b[1m133/133\u001b[0m \u001b[32m━━━━━━━━━━━━━━━━━━━━\u001b[0m\u001b[37m\u001b[0m \u001b[1m282s\u001b[0m 2s/step - accuracy: 0.9241 - loss: 0.2736 - val_accuracy: 0.9373 - val_loss: 0.2684 - learning_rate: 2.5000e-05\n",
      "Epoch 19/30\n",
      "\u001b[1m133/133\u001b[0m \u001b[32m━━━━━━━━━━━━━━━━━━━━\u001b[0m\u001b[37m\u001b[0m \u001b[1m279s\u001b[0m 2s/step - accuracy: 0.9327 - loss: 0.2364 - val_accuracy: 0.9307 - val_loss: 0.2889 - learning_rate: 2.5000e-05\n",
      "Epoch 20/30\n",
      "\u001b[1m133/133\u001b[0m \u001b[32m━━━━━━━━━━━━━━━━━━━━\u001b[0m\u001b[37m\u001b[0m \u001b[1m279s\u001b[0m 2s/step - accuracy: 0.9331 - loss: 0.2304 - val_accuracy: 0.9400 - val_loss: 0.2532 - learning_rate: 1.2500e-05\n",
      "Epoch 21/30\n",
      "\u001b[1m133/133\u001b[0m \u001b[32m━━━━━━━━━━━━━━━━━━━━\u001b[0m\u001b[37m\u001b[0m \u001b[1m283s\u001b[0m 2s/step - accuracy: 0.9384 - loss: 0.2308 - val_accuracy: 0.9373 - val_loss: 0.2754 - learning_rate: 1.2500e-05\n",
      "Epoch 22/30\n",
      "\u001b[1m133/133\u001b[0m \u001b[32m━━━━━━━━━━━━━━━━━━━━\u001b[0m\u001b[37m\u001b[0m \u001b[1m281s\u001b[0m 2s/step - accuracy: 0.9345 - loss: 0.2282 - val_accuracy: 0.9427 - val_loss: 0.2642 - learning_rate: 6.2500e-06\n"
     ]
    }
   ],
   "source": [
    "history = model.fit(train_gen, validation_data=val_gen, epochs=30, callbacks=callbacks)\n"
   ]
  },
  {
   "cell_type": "code",
   "execution_count": 48,
   "id": "604d812b",
   "metadata": {},
   "outputs": [
    {
     "name": "stdout",
     "output_type": "stream",
     "text": [
      "Found 1499 validated image filenames.\n",
      "\u001b[1m47/47\u001b[0m \u001b[32m━━━━━━━━━━━━━━━━━━━━\u001b[0m\u001b[37m\u001b[0m \u001b[1m20s\u001b[0m 392ms/step\n",
      "✅ Saved submission.csv\n"
     ]
    }
   ],
   "source": [
    "test_files = sorted(glob(os.path.join('test', 'test', '*.jpg')))\n",
    "test_df = pd.DataFrame({'filepath': test_files})\n",
    "\n",
    "test_gen = val_datagen.flow_from_dataframe(\n",
    "    test_df, x_col='filepath', y_col=None,\n",
    "    target_size=img_size, batch_size=batch_size,\n",
    "    class_mode=None, shuffle=False\n",
    ")\n",
    "\n",
    "preds = model.predict(test_gen)\n",
    "pred_labels = le.inverse_transform(np.argmax(preds, axis=1))\n",
    "\n",
    "submission = pd.DataFrame({\n",
    "    'ID': [os.path.basename(f) for f in test_files],\n",
    "    'Label': pred_labels\n",
    "})\n",
    "\n",
    "submission.to_csv(\"submission.csv\", index=False)\n",
    "print(\"✅ Saved submission.csv\")"
   ]
  },
  {
   "cell_type": "code",
   "execution_count": 49,
   "id": "89bb25c9",
   "metadata": {},
   "outputs": [
    {
     "data": {
      "image/png": "[encoded data removed]",
      "text/plain": [
       "<Figure size 640x480 with 1 Axes>"
      ]
     },
     "metadata": {},
     "output_type": "display_data"
    }
   ],
   "source": [
    "plt.plot(history.history['accuracy'], label='Train Accuracy')\n",
    "plt.plot(history.history['val_accuracy'], label='Val Accuracy')\n",
    "plt.xlabel('Epoch')\n",
    "plt.ylabel('Accuracy')\n",
    "plt.legend()\n",
    "plt.grid()\n",
    "plt.title('Training vs Validation Accuracy')\n",
    "plt.show()\n"
   ]
  }
 ],
 "metadata": {
  "kernelspec": {
   "display_name": "base",
   "language": "python",
   "name": "python3"
  },
  "language_info": {
   "codemirror_mode": {
    "name": "ipython",
    "version": 3
   },
   "file_extension": ".py",
   "mimetype": "text/x-python",
   "name": "python",
   "nbconvert_exporter": "python",
   "pygments_lexer": "ipython3",
   "version": "3.12.7"
  }
 },
 "nbformat": 4,
 "nbformat_minor": 5
}
